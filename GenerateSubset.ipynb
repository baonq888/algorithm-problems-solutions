{
 "cells": [
  {
   "cell_type": "markdown",
   "metadata": {},
   "source": [
    "Subset Generation Problem Statement\n",
    "\n",
    "Given an array of unique integers, generate all possible subsets (the power set). The solution set must not contain duplicate subsets, and the subsets can be returned in any order.\n",
    "\n",
    "Example 1\n",
    "\n",
    "Input: nums = [1,2,3]\n",
    "Output: [[], [1], [2], [3], [1,2], [1,3], [2,3], [1,2,3]]\n",
    "\n",
    "Example 2\n",
    "\n",
    "Input: nums = [0]\n",
    "Output: [[], [0]]\n",
    "\n",
    "Constraints:\n",
    "\t•\t1 ≤ nums.length ≤ 10\n",
    "\t•\t-10 ≤ nums[i] ≤ 10\n",
    "\t•\tAll elements in nums are unique."
   ]
  },
  {
   "cell_type": "code",
   "execution_count": 3,
   "metadata": {},
   "outputs": [],
   "source": [
    "def generate_subset(arr):\n",
    "    res = []\n",
    "\n",
    "    def backtrack(subset,start):\n",
    "        res.append(subset[:])\n",
    "        for i in range(start,len(arr)):\n",
    "            subset.append(arr[i])\n",
    "            backtrack(subset,i+1)\n",
    "            subset.pop()\n",
    "\n",
    "    backtrack([],0)\n",
    "    return res"
   ]
  },
  {
   "cell_type": "code",
   "execution_count": 4,
   "metadata": {},
   "outputs": [
    {
     "name": "stdout",
     "output_type": "stream",
     "text": [
      "[[], [1], [1, 2], [1, 2, 3], [1, 3], [2], [2, 3], [3]]\n"
     ]
    }
   ],
   "source": [
    "nums = [1,2,3]\n",
    "print(generate_subset(nums))"
   ]
  },
  {
   "cell_type": "code",
   "execution_count": null,
   "metadata": {},
   "outputs": [],
   "source": []
  }
 ],
 "metadata": {
  "kernelspec": {
   "display_name": "Python 3",
   "language": "python",
   "name": "python3"
  },
  "language_info": {
   "codemirror_mode": {
    "name": "ipython",
    "version": 3
   },
   "file_extension": ".py",
   "mimetype": "text/x-python",
   "name": "python",
   "nbconvert_exporter": "python",
   "pygments_lexer": "ipython3",
   "version": "3.9.6"
  }
 },
 "nbformat": 4,
 "nbformat_minor": 2
}
