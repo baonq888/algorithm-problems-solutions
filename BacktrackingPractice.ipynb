{
 "cells": [
  {
   "cell_type": "markdown",
   "metadata": {},
   "source": [
    "Given an array of unique integers, generate all possible subsets (the power set). The solution set must not contain duplicate subsets, and the subsets can be returned in any order.\n",
    "\n",
    "Example: Input: `[1,2,3]` → Output: `[[], [1], [2], [3], [1,2], [1,3], [2,3], [1,2,3]]`\n"
   ]
  },
  {
   "cell_type": "code",
   "execution_count": 27,
   "metadata": {},
   "outputs": [
    {
     "name": "stdout",
     "output_type": "stream",
     "text": [
      "[[], [1], [1, 2], [1, 2, 3], [1, 3], [2], [2, 3], [3]]\n"
     ]
    }
   ],
   "source": [
    "def solve(arr):\n",
    "    res = []\n",
    "\n",
    "    def backtrack(subset,start):\n",
    "        res.append(subset[:])\n",
    "        for i in range(start,len(arr)):\n",
    "            subset.append(arr[i])\n",
    "            backtrack(subset,i+1)\n",
    "            subset.pop()\n",
    "\n",
    "    backtrack([],0)\n",
    "    return res\n",
    "nums = [1,2,3]\n",
    "print(solve(nums))"
   ]
  },
  {
   "cell_type": "markdown",
   "metadata": {},
   "source": [
    "Given an array of unique integers, generate all possible subsets of a specified length `k`.\n",
    "   - Example: Input: `[1, 2, 3]`, `k=2` → Output: `[[1,2], [1,3], [2,3]]`"
   ]
  },
  {
   "cell_type": "code",
   "execution_count": 76,
   "metadata": {},
   "outputs": [
    {
     "name": "stdout",
     "output_type": "stream",
     "text": [
      "[[1, 2, 3], [1, 2, 4], [1, 3, 4], [2, 3, 4]]\n"
     ]
    }
   ],
   "source": [
    "def solve(nums,k):\n",
    "    res = []\n",
    "\n",
    "    def backtrack(start,subset):\n",
    "        if len(subset) == k:\n",
    "            res.append(subset[:])\n",
    "            return\n",
    "        \n",
    "        for i in range(start,len(nums)):\n",
    "            subset.append(nums[i])\n",
    "            backtrack(i+1,subset)\n",
    "            subset.pop()\n",
    "                \n",
    "                                   \n",
    "    backtrack(0,[])\n",
    "    return res\n",
    "\n",
    "nums = [1,2,3,4]\n",
    "k = 3\n",
    "print(solve(nums,k))"
   ]
  },
  {
   "cell_type": "markdown",
   "metadata": {},
   "source": [
    " Given a set of numbers, find all unique permutations of the set.\n",
    "   - Example: Input: `[1, 2, 3]` → Output: `[[1,2,3], [1,3,2], [2,1,3], [2,3,1], [3,1,2], [3,2,1]]`"
   ]
  },
  {
   "cell_type": "code",
   "execution_count": null,
   "metadata": {},
   "outputs": [
    {
     "name": "stdout",
     "output_type": "stream",
     "text": [
      "[[1, 2, 3], [1, 3, 2], [2, 1, 3], [2, 3, 1], [3, 1, 2], [3, 2, 1]]\n"
     ]
    }
   ],
   "source": [
    "def solve(nums):\n",
    "    res = []\n",
    "    def backtrack(permutation, remaining):\n",
    "        if not remaining:\n",
    "            res.append(permutation[:])  \n",
    "            return\n",
    "        \n",
    "        for i in range(len(remaining)):\n",
    "            backtrack(permutation + [remaining[i]], remaining[:i] + remaining[i+1:])\n",
    "\n",
    "    \n",
    "    backtrack([], nums)\n",
    "    return res\n",
    "\n",
    "nums = [1, 2, 3]\n",
    "print(solve(nums))"
   ]
  },
  {
   "cell_type": "markdown",
   "metadata": {},
   "source": [
    "Given an array of unique integers, generate all possible combinations that sum up to a given target.\n",
    "   - Example: Input: `[2,3,6,7]`, `target=7` → Output: `[[7], [2,2,3]]`"
   ]
  },
  {
   "cell_type": "code",
   "execution_count": 15,
   "metadata": {},
   "outputs": [
    {
     "name": "stdout",
     "output_type": "stream",
     "text": [
      "[[2, 2, 2, 2], [2, 3, 3], [2, 6]]\n"
     ]
    }
   ],
   "source": [
    "def solve(nums,target):\n",
    "    res = []\n",
    "    def backtrack(start,subset,remain):\n",
    "        if remain < 0:\n",
    "            return\n",
    "        if remain == 0:\n",
    "            res.append(subset[:])\n",
    "            return\n",
    "        for i in range(start,len(nums)):\n",
    "            subset.append(nums[i])\n",
    "            backtrack(i,subset,remain-nums[i])\n",
    "            subset.pop()\n",
    "            \n",
    "    backtrack(0,[],target)\n",
    "    return res\n",
    "\n",
    "nums = [2,3,6,7]\n",
    "target = 8\n",
    "print(solve(nums,target))\n"
   ]
  },
  {
   "cell_type": "markdown",
   "metadata": {},
   "source": [
    "Generate all valid parentheses combinations for a given number `n` of pairs.\n",
    "   - Example: Input: `n=3` → Output: `['((()))', '(()())', '(())()', '()(())', '()()()']`\n"
   ]
  },
  {
   "cell_type": "code",
   "execution_count": 26,
   "metadata": {},
   "outputs": [
    {
     "name": "stdout",
     "output_type": "stream",
     "text": [
      "['((()))', '(()())', '(())()', '()(())', '()()()']\n"
     ]
    }
   ],
   "source": [
    "def solve(n):\n",
    "    res = []\n",
    "    def backtrack(left,right,subset):\n",
    "        if len(subset) == n*2:\n",
    "            res.append(subset[:])\n",
    "            return\n",
    "        if left < n:\n",
    "            subset += '('\n",
    "            backtrack(left+1,right,subset)\n",
    "            subset = subset[:-1]\n",
    "        if left > right:\n",
    "            subset += ')'\n",
    "            backtrack(left,right+1,subset)\n",
    "            subset = subset[:-1]\n",
    "        \n",
    "        \n",
    "    backtrack(0,0,\"\")\n",
    "    return res\n",
    "n = 3\n",
    "print(solve(n))"
   ]
  },
  {
   "cell_type": "markdown",
   "metadata": {},
   "source": [
    "Find all distinct arrangements of characters in a given string.\n",
    "   - Example: Input: `'abc'` → Output: `['abc', 'acb', 'bac', 'bca', 'cab', 'cba']`"
   ]
  },
  {
   "cell_type": "code",
   "execution_count": 16,
   "metadata": {},
   "outputs": [
    {
     "name": "stdout",
     "output_type": "stream",
     "text": [
      "['abc', 'acb', 'bac', 'bca', 'cab', 'cba']\n"
     ]
    }
   ],
   "source": [
    "def solve(string):\n",
    "    res = []\n",
    "    str_list = list(string)\n",
    "    def backtrack(permutation,remaining):\n",
    "        if not remaining:\n",
    "            res.append(permutation[:])\n",
    "            return\n",
    "        \n",
    "        for i in range(len(remaining)):\n",
    "            backtrack(permutation+str(remaining[i]), remaining[:i]+remaining[i+1:])\n",
    "    backtrack(\"\",str_list)\n",
    "    return res\n",
    "\n",
    "string = 'abc'\n",
    "print(solve(string))\n"
   ]
  },
  {
   "cell_type": "markdown",
   "metadata": {},
   "source": [
    "Given an array of unique integers, generate all possible subsets whose sum is less than a given value.\n",
    "   - Example: Input: `[1,2,3]`, `limit=4` → Output: `[[1], [2], [3], [1,2], [1,3]]`\n"
   ]
  },
  {
   "cell_type": "code",
   "execution_count": 8,
   "metadata": {},
   "outputs": [
    {
     "name": "stdout",
     "output_type": "stream",
     "text": [
      "[[1], [1, 2], [1, 3], [2], [3]]\n"
     ]
    }
   ],
   "source": [
    "def solve(nums,limit):\n",
    "    res = []\n",
    "    def backtrack(start,subset,remain):\n",
    "        if remain < 0:\n",
    "            return\n",
    "        if remain >= 0 and subset:\n",
    "            res.append(subset[:])\n",
    "            \n",
    "        for i in range(start,len(nums)):\n",
    "            subset.append(nums[i])\n",
    "            backtrack(i+1,subset,remain-nums[i])\n",
    "            subset.pop()\n",
    "            \n",
    "    backtrack(0,[],limit)\n",
    "    return res\n",
    "\n",
    "nums = [1,2,3]\n",
    "limit = 4\n",
    "print(solve(nums,limit))"
   ]
  },
  {
   "cell_type": "markdown",
   "metadata": {},
   "source": [
    "Given an array of integers, generate all subsets where the sum is even.\n",
    "   - Example: Input: `[1, 2, 3]` → Output: `[[2], [1,3], [1,2,3]]`"
   ]
  },
  {
   "cell_type": "code",
   "execution_count": 5,
   "metadata": {},
   "outputs": [
    {
     "name": "stdout",
     "output_type": "stream",
     "text": [
      "[[1, 2, 3], [1, 3], [2]]\n"
     ]
    }
   ],
   "source": [
    "def solve(nums):\n",
    "    res = []\n",
    "    def backtrack(start,subset,s):\n",
    "        if s % 2 == 0 and s > 0:\n",
    "            res.append(subset[:])\n",
    "            return\n",
    "        \n",
    "        for i in range(start,len(nums)):\n",
    "            subset.append(nums[i])\n",
    "            backtrack(i+1,subset,s+nums[i])\n",
    "            subset.pop()\n",
    "        \n",
    "    backtrack(0,[],0)\n",
    "    return res\n",
    "\n",
    "nums = [1,2,3]\n",
    "print(solve(nums))"
   ]
  },
  {
   "cell_type": "markdown",
   "metadata": {},
   "source": [
    "Generate all possible letter-case permutations of a given string.\n",
    "   - Example: Input: `'a1b'` → Output: `['a1b', 'A1b', 'a1B', 'A1B']`"
   ]
  },
  {
   "cell_type": "code",
   "execution_count": 17,
   "metadata": {},
   "outputs": [
    {
     "name": "stdout",
     "output_type": "stream",
     "text": [
      "['A1B', 'A1b', 'a1B', 'a1b']\n"
     ]
    }
   ],
   "source": [
    "def solve(string):\n",
    "    res = []\n",
    "    str_list = list(string)\n",
    "    def backtrack(permutation,remaining):\n",
    "        \n",
    "        if permutation in res:\n",
    "            return\n",
    "        if not remaining and len(permutation) == len(string):\n",
    "            res.append(permutation[:])\n",
    "            return\n",
    "        \n",
    "        for i in range(len(remaining)):\n",
    "            backtrack(permutation+str(remaining[i].upper()), remaining[i+1:])\n",
    "            backtrack(permutation+str(remaining[i].lower()), remaining[i+1:])\n",
    "            \n",
    "    backtrack(\"\",str_list)\n",
    "    return res\n",
    "\n",
    "string = 'a1b'\n",
    "print(solve(string))\n",
    "    "
   ]
  },
  {
   "cell_type": "markdown",
   "metadata": {},
   "source": [
    "Given a set of `n` numbers, find all partitions of the set.\n",
    "    - Example: Input: `[1,2,3]` → Output: `[[[1],[2],[3]], [[1,2],[3]], [[1],[2,3]], [[1,3],[2]], [[1,2,3]]]`"
   ]
  },
  {
   "cell_type": "code",
   "execution_count": null,
   "metadata": {},
   "outputs": [
    {
     "name": "stdout",
     "output_type": "stream",
     "text": [
      "[[[1, 2, 3]], [[1, 2], [3]], [[1, 3], [2]], [[1], [2, 3]], [[1], [2], [3]]]\n"
     ]
    }
   ],
   "source": [
    "def solve(nums):\n",
    "    res = []\n",
    "\n",
    "    def backtrack(partition,start):\n",
    "        if start == len(nums):\n",
    "            res.append([part[:] for part in partition])\n",
    "            return\n",
    "        \n",
    "        for i in range(len(partition)):\n",
    "            partition[i].append(nums[start]) # add element to a subset\n",
    "            backtrack(partition,start+1)\n",
    "            partition[i].pop()\n",
    "\n",
    "        partition.append([nums[start]]) # add array element\n",
    "        backtrack(partition,start+1)\n",
    "        partition.pop()\n",
    "\n",
    "    backtrack([],0)\n",
    "    return res\n",
    "nums = [1,2,3]\n",
    "print(solve(nums))"
   ]
  },
  {
   "cell_type": "markdown",
   "metadata": {},
   "source": [
    "Generate all possible k-length permutations of an array.\n",
    "    - Example: Input: `[1,2,3]`, `k=2` → Output: `[[1,2], [1,3], [2,1], [2,3], [3,1], [3,2]]`"
   ]
  },
  {
   "cell_type": "code",
   "execution_count": 4,
   "metadata": {},
   "outputs": [
    {
     "name": "stdout",
     "output_type": "stream",
     "text": [
      "[[1, 2], [1, 3], [2, 1], [2, 3], [3, 1], [3, 2]]\n"
     ]
    }
   ],
   "source": [
    "def solve(nums,k):\n",
    "    res = []\n",
    "    def backtrack(permutation, remaining):\n",
    "        if len(permutation) == k:\n",
    "            res.append(permutation[:])  \n",
    "            return\n",
    "        \n",
    "        for i in range(len(remaining)):\n",
    "            backtrack(permutation + [remaining[i]], remaining[:i] + remaining[i+1:])\n",
    "\n",
    "    \n",
    "    backtrack([], nums)\n",
    "    return res\n",
    "\n",
    "nums = [1,2,3]\n",
    "k = 2\n",
    "print(solve(nums,k))"
   ]
  },
  {
   "cell_type": "markdown",
   "metadata": {},
   "source": [
    "Find all unique subsets of an array that have a given product.\n",
    "    - Example: Input: `[2,3,6]`, `target=6` → Output: `[[2,3], [6]]`"
   ]
  },
  {
   "cell_type": "code",
   "execution_count": 10,
   "metadata": {},
   "outputs": [
    {
     "name": "stdout",
     "output_type": "stream",
     "text": [
      "[[2, 8], [4, 4]]\n"
     ]
    }
   ],
   "source": [
    "def solve(nums,target):\n",
    "    res = []\n",
    "    def backtrack(start,subset,remain):\n",
    "        if remain == 1:\n",
    "            res.append(subset[:])\n",
    "            return\n",
    "        for i in range(start,len(nums)):\n",
    "            if remain % nums[i] != 0:\n",
    "                continue\n",
    "            subset.append(nums[i])\n",
    "            backtrack(i+1,subset,remain//nums[i])\n",
    "            subset.pop()\n",
    "            \n",
    "    backtrack(0,[],target)\n",
    "    return res\n",
    "\n",
    "nums = [2,3,6,8,4,4]\n",
    "target = 16\n",
    "print(solve(nums,target))"
   ]
  },
  {
   "cell_type": "markdown",
   "metadata": {},
   "source": [
    "Generate all valid arithmetic expressions using a given set of numbers and operators.\n",
    "    - Example: Input: `[1,2]` → Output: `['1+2', '1-2', '1*2']`"
   ]
  },
  {
   "cell_type": "code",
   "execution_count": null,
   "metadata": {},
   "outputs": [],
   "source": []
  },
  {
   "cell_type": "markdown",
   "metadata": {},
   "source": [
    "Given an array of unique integers, generate all subsets where the largest element is prime.\n",
    "    - Example: Input: `[1,2,3,4]` → Output: `[[2], [3], [1,2], [1,3], [2,3], [2,4], [1,2,3]]`"
   ]
  },
  {
   "cell_type": "code",
   "execution_count": null,
   "metadata": {},
   "outputs": [],
   "source": []
  },
  {
   "cell_type": "markdown",
   "metadata": {},
   "source": [
    "Generate all possible sequences of length `k` from a given set of numbers, allowing repetitions.\n",
    "    - Example: Input: `[1,2]`, `k=2` → Output: `[[1,1], [1,2], [2,1], [2,2]]`"
   ]
  },
  {
   "cell_type": "code",
   "execution_count": null,
   "metadata": {},
   "outputs": [],
   "source": []
  },
  {
   "cell_type": "markdown",
   "metadata": {},
   "source": [
    "Generate all unique paths from the top-left to the bottom-right of an `m x n` grid.\n",
    "    - Example: Input: `m=2, n=2` → Output: `[['Right', 'Down'], ['Down', 'Right']]`"
   ]
  },
  {
   "cell_type": "code",
   "execution_count": null,
   "metadata": {},
   "outputs": [],
   "source": []
  },
  {
   "cell_type": "markdown",
   "metadata": {},
   "source": [
    "Given an array of distinct integers, generate all subsets that contain at least one even number.\n",
    "    - Example: Input: `[1,2,3]` → Output: `[[2], [2,1], [2,3], [2,1,3]]`"
   ]
  },
  {
   "cell_type": "code",
   "execution_count": null,
   "metadata": {},
   "outputs": [],
   "source": []
  },
  {
   "cell_type": "markdown",
   "metadata": {},
   "source": [
    "Generate all possible orderings of k elements selected from a given set.\n",
    "    - Example: Input: `[1,2,3]`, `k=2` → Output: `[[1,2], [1,3], [2,1], [2,3], [3,1], [3,2]]`"
   ]
  },
  {
   "cell_type": "code",
   "execution_count": null,
   "metadata": {},
   "outputs": [],
   "source": []
  },
  {
   "cell_type": "markdown",
   "metadata": {},
   "source": [
    "Find all unique ways to arrange a set of numbers so that adjacent numbers have a given difference constraint.\n",
    "    - Example: Input: `[1,3,5]`, `diff=2` → Output: `[[1,3,5], [5,3,1]]`"
   ]
  },
  {
   "cell_type": "code",
   "execution_count": null,
   "metadata": {},
   "outputs": [],
   "source": []
  },
  {
   "cell_type": "markdown",
   "metadata": {},
   "source": [
    "Given a set of unique numbers, generate all subsets that do not include consecutive elements from the original set.\n",
    "    - Example: Input: `[1,2,3,4]` → Output: `[[1], [2], [3], [4], [1,3], [1,4], [2,4]]`\n"
   ]
  },
  {
   "cell_type": "code",
   "execution_count": null,
   "metadata": {},
   "outputs": [],
   "source": []
  }
 ],
 "metadata": {
  "kernelspec": {
   "display_name": "Python 3",
   "language": "python",
   "name": "python3"
  },
  "language_info": {
   "codemirror_mode": {
    "name": "ipython",
    "version": 3
   },
   "file_extension": ".py",
   "mimetype": "text/x-python",
   "name": "python",
   "nbconvert_exporter": "python",
   "pygments_lexer": "ipython3",
   "version": "3.9.6"
  }
 },
 "nbformat": 4,
 "nbformat_minor": 2
}
