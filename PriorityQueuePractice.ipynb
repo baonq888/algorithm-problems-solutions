{
 "cells": [
  {
   "cell_type": "markdown",
   "metadata": {},
   "source": [
    "\n",
    "Implement a priority queue using a min-heap or max-heap with `insert()`, `extractMax()`/`extractMin()`, and `peek()`.\n",
    "**Example:**\n",
    "```text\n",
    "PriorityQueue pq;\n",
    "pq.insert(5);\n",
    "pq.insert(10);\n",
    "pq.extractMax();  // Removes 10\n",
    "pq.peek();  // Returns 5\n",
    "```"
   ]
  },
  {
   "cell_type": "code",
   "execution_count": 8,
   "metadata": {},
   "outputs": [
    {
     "name": "stdout",
     "output_type": "stream",
     "text": [
      "2\n",
      "1\n"
     ]
    }
   ],
   "source": [
    "import heapq\n",
    "\n",
    "class PriorityQueue:\n",
    "    def __init__(self):\n",
    "        self.heap = []\n",
    "\n",
    "    def insert(self, value):\n",
    "        heapq.heappush(self.heap, -value)\n",
    "\n",
    "    def extractMax(self):\n",
    "        if not self.heap:\n",
    "            return None\n",
    "        return -heapq.heappop(self.heap)\n",
    "\n",
    "    def peek(self):\n",
    "        if not self.heap:\n",
    "            return None\n",
    "        return -self.heap[0]\n",
    "\n",
    "    def isEmpty(self):\n",
    "        return len(self.heap) == 0\n",
    "\n",
    "pq = PriorityQueue()\n",
    "pq.insert(1)\n",
    "pq.insert(2)\n",
    "print(pq.extractMax())  \n",
    "print(pq.peek())       "
   ]
  },
  {
   "cell_type": "markdown",
   "metadata": {},
   "source": [
    "Maintain a stream of numbers and efficiently return the kth largest element at any time.\n",
    "**Example:**\n",
    "\n",
    "`KthLargest(3, [4,5,8,2]);`  \n",
    "`add(3);   // Returns 4` \n",
    "`add(5);   // Returns 5 `"
   ]
  },
  {
   "cell_type": "code",
   "execution_count": 5,
   "metadata": {},
   "outputs": [
    {
     "name": "stdout",
     "output_type": "stream",
     "text": [
      "4\n",
      "5\n"
     ]
    }
   ],
   "source": [
    "import heapq\n",
    "\n",
    "class KthLargestElement:\n",
    "    def __init__(self, k, nums):\n",
    "        self.k = k\n",
    "        self.max_heap = [-num for num in nums] \n",
    "        heapq.heapify(self.max_heap) \n",
    "\n",
    "    def add(self, val):\n",
    "        heapq.heappush(self.max_heap, -val)  \n",
    "        \n",
    "        # Retreive the kth smallest element of the min-heap (which is the kth largest element of the max-heap)\n",
    "        temp = []\n",
    "        for _ in range(self.k - 1): \n",
    "            temp.append(heapq.heappop(self.max_heap))\n",
    "\n",
    "        kth_largest = -heapq.heappop(self.max_heap)  \n",
    "        \n",
    "        for num in temp:\n",
    "            heapq.heappush(self.max_heap, num)\n",
    "\n",
    "        return kth_largest\n",
    "\n",
    "kthLargest = KthLargestElement(3, [4, 5, 8, 2])\n",
    "print(kthLargest.add(3)) \n",
    "print(kthLargest.add(5))"
   ]
  },
  {
   "cell_type": "code",
   "execution_count": 2,
   "metadata": {},
   "outputs": [
    {
     "name": "stdout",
     "output_type": "stream",
     "text": [
      "9\n",
      "9\n"
     ]
    }
   ],
   "source": [
    "import heapq\n",
    "\n",
    "class KthLargestElement:\n",
    "    def __init__(self,k,nums):\n",
    "        self.k = k\n",
    "        self.min_heap = []\n",
    "        for num in nums:\n",
    "            self.add(num)\n",
    "\n",
    "    def add(self,num):\n",
    "        heapq.heappush(self.min_heap, num)\n",
    "        if len(self.min_heap) > self.k:\n",
    "            heapq.heappop(self.min_heap) # pop the smallest element until lenght of min_heap is k\n",
    "        return self.min_heap[0]\n",
    "\n",
    "kthLargest = KthLargestElement(1, [4, 5, 8, 2, 6])\n",
    "print(kthLargest.add(9))  \n",
    "print(kthLargest.add(5))  "
   ]
  },
  {
   "cell_type": "markdown",
   "metadata": {},
   "source": [
    "Given K sorted linked lists, merge them into one sorted list using a priority queue.\n",
    "**Example:** Input: `[[1,4,5],[1,3,4],[2,6]]`, Output: `[1,1,2,3,4,4,5,6]`"
   ]
  },
  {
   "cell_type": "code",
   "execution_count": null,
   "metadata": {},
   "outputs": [
    {
     "name": "stdout",
     "output_type": "stream",
     "text": [
      "[1, 1, 2, 3, 4, 4, 5, 6]\n"
     ]
    }
   ],
   "source": [
    "import heapq\n",
    "\n",
    "class ListNode:\n",
    "    def __init__(self, val=0, next=None):\n",
    "        self.val = val\n",
    "        self.next = next\n",
    "\n",
    "    def __lt__(self, other):\n",
    "        return self.val < other.val \n",
    "\n",
    "def create_linked_list(arr):\n",
    "    if not arr:\n",
    "        return None\n",
    "    head = ListNode(arr[0])\n",
    "    current = head\n",
    "    for val in arr[1:]:\n",
    "        current.next = ListNode(val)\n",
    "        current = current.next\n",
    "    return head\n",
    "\n",
    "def mergeKLists(lists):\n",
    "    min_heap = []\n",
    "    temp = ListNode()\n",
    "    current = temp\n",
    "    linked_lists = [create_linked_list(l) for l in lists]\n",
    "\n",
    "    # add first node of each linked list to the heap, \n",
    "    # ensuring the smallest elements are in the heap\n",
    "    for l in linked_lists:\n",
    "        if l:\n",
    "            heapq.heappush(min_heap, l)\n",
    "    \n",
    "    # get the smallest element of the heap\n",
    "    # add to result\n",
    "    # add the next node of the the current smallest node to the heap \n",
    "    while min_heap:\n",
    "        node = heapq.heappop(min_heap)\n",
    "        current.next = node\n",
    "        current = current.next\n",
    "        \n",
    "        \n",
    "        if node.next:\n",
    "            heapq.heappush(min_heap, node.next)\n",
    "\n",
    "    return temp.next  \n",
    "\n",
    "def print_linked_list(head):\n",
    "    values = []\n",
    "    while head:\n",
    "        values.append(head.val)\n",
    "        head = head.next\n",
    "    print(values)\n",
    "\n",
    "input_lists = [[1, 4, 5], [1, 3, 4], [2, 6]]\n",
    "merged_head = mergeKLists(input_lists)\n",
    "print_linked_list(merged_head)\n"
   ]
  },
  {
   "cell_type": "markdown",
   "metadata": {},
   "source": [
    "Given a list of points on a 2D plane, return the `k` closest points to the origin `(0,0)`.\n",
    "**Example:** Input: `[[1,3],[-2,2]], k=1`, Output: `[[-2,2]]`"
   ]
  },
  {
   "cell_type": "code",
   "execution_count": null,
   "metadata": {},
   "outputs": [
    {
     "name": "stdout",
     "output_type": "stream",
     "text": [
      "[[1, -1], [2, -2]]\n"
     ]
    }
   ],
   "source": [
    "import heapq\n",
    "\n",
    "def calc_distance(x,y):\n",
    "    return abs(x) + abs(y)\n",
    "\n",
    "def solve(points,k):\n",
    "    distance_heap = []\n",
    "    for point in points:\n",
    "        d = calc_distance(point[0],point[1])\n",
    "        heapq.heappush(distance_heap,(d,point))\n",
    "\n",
    "    return [heapq.heappop(distance_heap)[1] for _ in range(k)]\n",
    "\n",
    "points = [[1,4],[1,-1],[2,-2]]\n",
    "k = 2\n",
    "print(solve(points,k))"
   ]
  },
  {
   "cell_type": "code",
   "execution_count": 11,
   "metadata": {},
   "outputs": [
    {
     "name": "stdout",
     "output_type": "stream",
     "text": [
      "[[2, -2], [1, -1]]\n"
     ]
    }
   ],
   "source": [
    "import heapq\n",
    "\n",
    "def calc_distance(x, y):\n",
    "    return abs(x) + abs(y)  # Manhattan distance\n",
    "\n",
    "def solve(points, k):\n",
    "    max_heap = []\n",
    "    \n",
    "    for point in points:\n",
    "        d = -calc_distance(point[0], point[1])  # Negate distance for max-heap behavior\n",
    "        heapq.heappush(max_heap, (d, point))\n",
    "\n",
    "        if len(max_heap) > k:\n",
    "            heapq.heappop(max_heap)  # Remove farthest point\n",
    "\n",
    "    return [point for (_, point) in max_heap]\n",
    "\n",
    "# Example Usage:\n",
    "points = [[1, 4], [1, -1], [2, -2]]\n",
    "k = 2\n",
    "print(solve(points, k))  # Output: [[1, -1], [2, -2]]"
   ]
  },
  {
   "cell_type": "markdown",
   "metadata": {},
   "source": [
    "Given a list of tasks and a cooldown period, find the minimum time needed to execute all tasks without violating cooldown constraints.\n",
    "**Example:** Input: `tasks = [A,A,A,B,B,B], n = 2`, Output: `8`"
   ]
  },
  {
   "cell_type": "code",
   "execution_count": null,
   "metadata": {},
   "outputs": [],
   "source": [
    "import heapq\n",
    "from collections import deque\n",
    "\n",
    "def get_freq(tasks):\n",
    "    freq_dict = {}\n",
    "    for task in tasks:\n",
    "        if task in freq_dict:\n",
    "            freq_dict[task] += 1\n",
    "        else:\n",
    "            freq_dict[task] = 1\n",
    "    return freq_dict\n",
    "\n",
    "def solve(tasks,n):\n",
    "    time_unit = 0\n",
    "    waiting_tasks_freq = deque()\n",
    "    task_freq = get_freq(tasks)\n",
    "    task_freq_heap = [-count for count in task_freq.values()]\n",
    "    heapq.heapify(task_freq_heap)\n",
    "\n",
    "    # process task and add next task to waiting queue\n",
    "    # if it is in a cooldown period continue until cooldown is finished\n",
    "    while task_freq_heap or waiting_tasks_freq:\n",
    "        time_unit += 1\n",
    "        if task_freq_heap:\n",
    "            freq = heapq.heappop(task_freq_heap) + 1 # execute task, reducing its frequency\n",
    "            if freq:\n",
    "                # add the next instance of the task with task's cooldown period\n",
    "                waiting_tasks_freq.append((freq,time_unit+n))\n",
    "        # add back tasks whose cooldown has finished\n",
    "        if waiting_tasks_freq and waiting_tasks_freq[0][1] == time_unit:\n",
    "            heapq.heappush(task_freq_heap, waiting_tasks_freq.popleft()[0])\n",
    "    return time_unit\n",
    "    "
   ]
  },
  {
   "cell_type": "markdown",
   "metadata": {},
   "source": [
    "Given an array, return the `k` most frequent elements.\n",
    "**Example:** Input: `nums = [1,1,1,2,2,3], k = 2`, Output: `[1,2]`"
   ]
  },
  {
   "cell_type": "code",
   "execution_count": 7,
   "metadata": {},
   "outputs": [
    {
     "name": "stdout",
     "output_type": "stream",
     "text": [
      "[2, 1]\n"
     ]
    }
   ],
   "source": [
    "import heapq\n",
    "\n",
    "def get_freq(nums):\n",
    "    freq_dict = {}\n",
    "    for num in nums:\n",
    "        if num in freq_dict:\n",
    "            freq_dict[num] += 1\n",
    "        else:\n",
    "            freq_dict[num] = 1\n",
    "    return freq_dict\n",
    "\n",
    "def solve(nums,k):\n",
    "    nums_dict = get_freq(nums)\n",
    "    min_heap = []\n",
    "    for f in nums_dict:\n",
    "        heapq.heappush(min_heap,(nums_dict[f],f))\n",
    "        if len(min_heap) > k:\n",
    "            heapq.heappop(min_heap)\n",
    "    return [element for _,element in min_heap]\n",
    "\n",
    "nums = [1,1,1,2,2,3]\n",
    "k = 2\n",
    "print(solve(nums,k))"
   ]
  },
  {
   "cell_type": "markdown",
   "metadata": {},
   "source": [
    "Given an array, repeatedly remove the two smallest elements, sum them, and reinsert until one element remains.\n",
    "**Example:** Input: `[1,2,3,4]`, Output: `19`"
   ]
  },
  {
   "cell_type": "code",
   "execution_count": null,
   "metadata": {},
   "outputs": [],
   "source": []
  },
  {
   "cell_type": "markdown",
   "metadata": {},
   "source": [
    "Given an initial capital and a list of investment projects with profits, maximize the capital by investing in the most profitable projects within the budget.\n",
    "**Example:** Input: `k=2, W=0, Profits=[1,2,3], Capital=[0,1,1]`, Output: `4`"
   ]
  },
  {
   "cell_type": "code",
   "execution_count": null,
   "metadata": {},
   "outputs": [],
   "source": []
  },
  {
   "cell_type": "markdown",
   "metadata": {},
   "source": [
    "Maintain a stream of numbers and return the median at any point.\n",
    "**Example:** Input: `stream = [1,2,3,4]`, Output: `[1, 1.5, 2, 2.5]`"
   ]
  },
  {
   "cell_type": "code",
   "execution_count": null,
   "metadata": {},
   "outputs": [],
   "source": []
  },
  {
   "cell_type": "markdown",
   "metadata": {},
   "source": [
    "Given a string, rearrange characters so that no two adjacent characters are the same.\n",
    "**Example:** Input: `\"aab\"`, Output: `\"aba\"`"
   ]
  },
  {
   "cell_type": "code",
   "execution_count": null,
   "metadata": {},
   "outputs": [],
   "source": []
  },
  {
   "cell_type": "markdown",
   "metadata": {},
   "source": [
    "Given a string, return the characters sorted by their frequency in descending order.\n",
    "**Example:**  \n",
    "Input: `\"tree\"`  \n",
    "Output: `\"eert\"` or `\"eetr\"`\n"
   ]
  },
  {
   "cell_type": "code",
   "execution_count": null,
   "metadata": {},
   "outputs": [],
   "source": []
  },
  {
   "cell_type": "markdown",
   "metadata": {},
   "source": [
    "Connect Ropes to Minimize Cost\n",
    "**Problem:** Given an array where each element represents a rope’s length, join them into one rope with minimal cost. The cost of connecting two ropes is the sum of their lengths.\n",
    "**Example:**  \n",
    "Input: `[4, 3, 2, 6]`  \n",
    "Output: `29` (Connect `2+3=5`, then `5+4=9`, then `9+6=15`, total cost `5+9+15=29`)"
   ]
  },
  {
   "cell_type": "code",
   "execution_count": null,
   "metadata": {},
   "outputs": [],
   "source": []
  },
  {
   "cell_type": "markdown",
   "metadata": {},
   "source": [
    "Kth Smallest Element in a Sorted Matrix\n",
    "**Problem:** Given an `n x n` sorted matrix (row-wise and column-wise), find the kth smallest element.\n",
    "**Example:**  \n",
    "Input: `[[1, 5, 9], [10, 11, 13], [12, 13, 15]]`, `k = 8`  \n",
    "Output: `13`"
   ]
  },
  {
   "cell_type": "code",
   "execution_count": null,
   "metadata": {},
   "outputs": [],
   "source": []
  },
  {
   "cell_type": "markdown",
   "metadata": {},
   "source": [
    "Maximum Performance of a Team\n",
    "**Problem:** Given `n` engineers with speed and efficiency, form a team with at most `k` engineers to maximize performance, defined as `(sum of speeds) * (minimum efficiency in the team)`.\n",
    "**Example:**  \n",
    "Input: `speed = [2, 10, 3, 1, 5, 8]`, `efficiency = [5, 4, 3, 9, 7, 2]`, `k = 3`  \n",
    "Output: `60`\n"
   ]
  },
  {
   "cell_type": "code",
   "execution_count": null,
   "metadata": {},
   "outputs": [],
   "source": []
  },
  {
   "cell_type": "markdown",
   "metadata": {},
   "source": [
    "K Pairs with Smallest Sums\n",
    "**Problem:** Given two sorted arrays `nums1` and `nums2`, find the `k` pairs `(u, v)` with the smallest sums.\n",
    "**Example:**  \n",
    "Input: `nums1 = [1, 7, 11], nums2 = [2, 4, 6]`, `k = 3`  \n",
    "Output: `[(1,2), (1,4), (1,6)]`"
   ]
  },
  {
   "cell_type": "code",
   "execution_count": null,
   "metadata": {},
   "outputs": [],
   "source": []
  },
  {
   "cell_type": "markdown",
   "metadata": {},
   "source": [
    "Furthest Building You Can Reach\n",
    "**Problem:** Given a list of building heights and a set of ladders and bricks, determine the furthest building you can reach using the given resources.\n",
    "**Example:**  \n",
    "Input: `heights = [4,2,7,6,9,14,12], bricks = 5, ladders = 1`  \n",
    "Output: `4`"
   ]
  },
  {
   "cell_type": "code",
   "execution_count": null,
   "metadata": {},
   "outputs": [],
   "source": []
  },
  {
   "cell_type": "markdown",
   "metadata": {},
   "source": [
    "Sliding Window Median\n",
    "**Problem:** Given an array `nums` and a window size `k`, return the median of every window of size `k`.\n",
    "**Example:**  \n",
    "Input: `nums = [1,3,-1,-3,5,3,6,7]`, `k = 3`  \n",
    "Output: `[1, -1, -1, 3, 5, 6]`\n"
   ]
  },
  {
   "cell_type": "code",
   "execution_count": null,
   "metadata": {},
   "outputs": [],
   "source": []
  },
  {
   "cell_type": "markdown",
   "metadata": {},
   "source": [
    "Min Cost to Hire K Workers\n",
    "**Problem:** Given `n` workers with their quality and wage expectation, find the minimum cost to hire exactly `k` workers while maintaining the wage-to-quality ratio.\n",
    "**Example:**  \n",
    "Input: `quality = [10,20,5], wage = [70,50,30], k = 2`  \n",
    "Output: `105.0`"
   ]
  },
  {
   "cell_type": "code",
   "execution_count": null,
   "metadata": {},
   "outputs": [],
   "source": []
  },
  {
   "cell_type": "markdown",
   "metadata": {},
   "source": [
    "Smallest Range Covering Elements from K Lists\n",
    "**Problem:** Given `k` sorted lists, find the smallest range that includes at least one element from each list.\n",
    "**Example:**  \n",
    "Input: `[[4,10,15,24,26], [0,9,12,20], [5,18,22,30]]`  \n",
    "Output: `[20,24]`"
   ]
  },
  {
   "cell_type": "code",
   "execution_count": null,
   "metadata": {},
   "outputs": [],
   "source": []
  },
  {
   "cell_type": "markdown",
   "metadata": {},
   "source": [
    "Least Number of Unique Integers after K Removals\n",
    "**Problem:** Given an array of integers and an integer `k`, remove `k` elements to minimize the number of unique integers remaining.\n",
    "**Example:**  \n",
    "Input: `arr = [4,3,1,1,3,3,2,4,4]`, `k = 3`  \n",
    "Output: `2`"
   ]
  },
  {
   "cell_type": "code",
   "execution_count": null,
   "metadata": {},
   "outputs": [],
   "source": []
  }
 ],
 "metadata": {
  "kernelspec": {
   "display_name": "Python 3",
   "language": "python",
   "name": "python3"
  },
  "language_info": {
   "codemirror_mode": {
    "name": "ipython",
    "version": 3
   },
   "file_extension": ".py",
   "mimetype": "text/x-python",
   "name": "python",
   "nbconvert_exporter": "python",
   "pygments_lexer": "ipython3",
   "version": "3.9.6"
  }
 },
 "nbformat": 4,
 "nbformat_minor": 2
}
