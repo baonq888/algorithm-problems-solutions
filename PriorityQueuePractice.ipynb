{
 "cells": [
  {
   "cell_type": "markdown",
   "metadata": {},
   "source": [
    "Implement a Priority Queue Using a Heap\n",
    "**Problem:** Implement a priority queue using a min-heap or max-heap with `insert()`, `extractMax()`/`extractMin()`, and `peek()`.\n",
    "**Example:**\n",
    "```text\n",
    "PriorityQueue pq;\n",
    "pq.insert(5);\n",
    "pq.insert(10);\n",
    "pq.extractMax();  // Removes 10\n",
    "pq.peek();  // Returns 5\n",
    "```"
   ]
  },
  {
   "cell_type": "code",
   "execution_count": null,
   "metadata": {
    "vscode": {
     "languageId": "plaintext"
    }
   },
   "outputs": [],
   "source": []
  },
  {
   "cell_type": "markdown",
   "metadata": {},
   "source": [
    " Kth Largest Element in a Stream\n",
    "**Problem:** Maintain a stream of numbers and efficiently return the kth largest element at any time.\n",
    "**Example:**\n",
    "```text\n",
    "KthLargest(3, [4,5,8,2]);\n",
    "add(3);   // Returns 4\n",
    "add(5);   // Returns 5\n"
   ]
  },
  {
   "cell_type": "code",
   "execution_count": null,
   "metadata": {
    "vscode": {
     "languageId": "plaintext"
    }
   },
   "outputs": [],
   "source": []
  },
  {
   "cell_type": "markdown",
   "metadata": {},
   "source": [
    "Merge K Sorted Lists\n",
    "**Problem:** Given K sorted linked lists, merge them into one sorted list using a priority queue.\n",
    "**Example:** Input: `[[1,4,5],[1,3,4],[2,6]]`, Output: `[1,1,2,3,4,4,5,6]`"
   ]
  },
  {
   "cell_type": "code",
   "execution_count": null,
   "metadata": {
    "vscode": {
     "languageId": "plaintext"
    }
   },
   "outputs": [],
   "source": []
  },
  {
   "cell_type": "markdown",
   "metadata": {},
   "source": [
    "Find K Closest Points to Origin\n",
    "**Problem:** Given a list of points on a 2D plane, return the `k` closest points to the origin `(0,0)`.\n",
    "**Example:** Input: `[[1,3],[-2,2]], k=1`, Output: `[[-2,2]]`"
   ]
  },
  {
   "cell_type": "code",
   "execution_count": null,
   "metadata": {
    "vscode": {
     "languageId": "plaintext"
    }
   },
   "outputs": [],
   "source": []
  },
  {
   "cell_type": "markdown",
   "metadata": {},
   "source": [
    "Task Scheduler\n",
    "**Problem:** Given a list of tasks and a cooldown period, find the minimum time needed to execute all tasks without violating cooldown constraints.\n",
    "**Example:** Input: `tasks = [A,A,A,B,B,B], n = 2`, Output: `8`"
   ]
  },
  {
   "cell_type": "code",
   "execution_count": null,
   "metadata": {
    "vscode": {
     "languageId": "plaintext"
    }
   },
   "outputs": [],
   "source": []
  },
  {
   "cell_type": "markdown",
   "metadata": {},
   "source": [
    "Top K Frequent Elements\n",
    "**Problem:** Given an array, return the `k` most frequent elements.\n",
    "**Example:** Input: `nums = [1,1,1,2,2,3], k = 2`, Output: `[1,2]`"
   ]
  },
  {
   "cell_type": "code",
   "execution_count": null,
   "metadata": {
    "vscode": {
     "languageId": "plaintext"
    }
   },
   "outputs": [],
   "source": []
  },
  {
   "cell_type": "markdown",
   "metadata": {},
   "source": [
    "Minimize the Sum of Array Elements\n",
    "**Problem:** Given an array, repeatedly remove the two smallest elements, sum them, and reinsert until one element remains.\n",
    "**Example:** Input: `[1,2,3,4]`, Output: `19`"
   ]
  },
  {
   "cell_type": "code",
   "execution_count": null,
   "metadata": {
    "vscode": {
     "languageId": "plaintext"
    }
   },
   "outputs": [],
   "source": []
  },
  {
   "cell_type": "markdown",
   "metadata": {},
   "source": [
    " IPO (Investment Strategy)\n",
    "**Problem:** Given an initial capital and a list of investment projects with profits, maximize the capital by investing in the most profitable projects within the budget.\n",
    "**Example:** Input: `k=2, W=0, Profits=[1,2,3], Capital=[0,1,1]`, Output: `4`"
   ]
  },
  {
   "cell_type": "code",
   "execution_count": null,
   "metadata": {
    "vscode": {
     "languageId": "plaintext"
    }
   },
   "outputs": [],
   "source": []
  },
  {
   "cell_type": "markdown",
   "metadata": {},
   "source": [
    "Running Median\n",
    "**Problem:** Maintain a stream of numbers and return the median at any point.\n",
    "**Example:** Input: `stream = [1,2,3,4]`, Output: `[1, 1.5, 2, 2.5]`"
   ]
  },
  {
   "cell_type": "code",
   "execution_count": null,
   "metadata": {
    "vscode": {
     "languageId": "plaintext"
    }
   },
   "outputs": [],
   "source": []
  },
  {
   "cell_type": "markdown",
   "metadata": {},
   "source": [
    " Reorganize String\n",
    "**Problem:** Given a string, rearrange characters so that no two adjacent characters are the same.\n",
    "**Example:** Input: `\"aab\"`, Output: `\"aba\"`"
   ]
  },
  {
   "cell_type": "code",
   "execution_count": null,
   "metadata": {
    "vscode": {
     "languageId": "plaintext"
    }
   },
   "outputs": [],
   "source": []
  },
  {
   "cell_type": "markdown",
   "metadata": {},
   "source": [
    "Sort Characters By Frequency\n",
    "**Problem:** Given a string, return the characters sorted by their frequency in descending order.\n",
    "**Example:**  \n",
    "Input: `\"tree\"`  \n",
    "Output: `\"eert\"` or `\"eetr\"`\n"
   ]
  },
  {
   "cell_type": "code",
   "execution_count": null,
   "metadata": {
    "vscode": {
     "languageId": "plaintext"
    }
   },
   "outputs": [],
   "source": []
  },
  {
   "cell_type": "markdown",
   "metadata": {},
   "source": [
    "Connect Ropes to Minimize Cost\n",
    "**Problem:** Given an array where each element represents a rope’s length, join them into one rope with minimal cost. The cost of connecting two ropes is the sum of their lengths.\n",
    "**Example:**  \n",
    "Input: `[4, 3, 2, 6]`  \n",
    "Output: `29` (Connect `2+3=5`, then `5+4=9`, then `9+6=15`, total cost `5+9+15=29`)"
   ]
  },
  {
   "cell_type": "code",
   "execution_count": null,
   "metadata": {
    "vscode": {
     "languageId": "plaintext"
    }
   },
   "outputs": [],
   "source": []
  },
  {
   "cell_type": "markdown",
   "metadata": {},
   "source": [
    "Kth Smallest Element in a Sorted Matrix\n",
    "**Problem:** Given an `n x n` sorted matrix (row-wise and column-wise), find the kth smallest element.\n",
    "**Example:**  \n",
    "Input: `[[1, 5, 9], [10, 11, 13], [12, 13, 15]]`, `k = 8`  \n",
    "Output: `13`"
   ]
  },
  {
   "cell_type": "code",
   "execution_count": null,
   "metadata": {
    "vscode": {
     "languageId": "plaintext"
    }
   },
   "outputs": [],
   "source": []
  },
  {
   "cell_type": "markdown",
   "metadata": {},
   "source": [
    "Maximum Performance of a Team\n",
    "**Problem:** Given `n` engineers with speed and efficiency, form a team with at most `k` engineers to maximize performance, defined as `(sum of speeds) * (minimum efficiency in the team)`.\n",
    "**Example:**  \n",
    "Input: `speed = [2, 10, 3, 1, 5, 8]`, `efficiency = [5, 4, 3, 9, 7, 2]`, `k = 3`  \n",
    "Output: `60`\n"
   ]
  },
  {
   "cell_type": "code",
   "execution_count": null,
   "metadata": {
    "vscode": {
     "languageId": "plaintext"
    }
   },
   "outputs": [],
   "source": []
  },
  {
   "cell_type": "markdown",
   "metadata": {},
   "source": [
    "K Pairs with Smallest Sums\n",
    "**Problem:** Given two sorted arrays `nums1` and `nums2`, find the `k` pairs `(u, v)` with the smallest sums.\n",
    "**Example:**  \n",
    "Input: `nums1 = [1, 7, 11], nums2 = [2, 4, 6]`, `k = 3`  \n",
    "Output: `[(1,2), (1,4), (1,6)]`"
   ]
  },
  {
   "cell_type": "code",
   "execution_count": null,
   "metadata": {
    "vscode": {
     "languageId": "plaintext"
    }
   },
   "outputs": [],
   "source": []
  },
  {
   "cell_type": "markdown",
   "metadata": {},
   "source": [
    "Furthest Building You Can Reach\n",
    "**Problem:** Given a list of building heights and a set of ladders and bricks, determine the furthest building you can reach using the given resources.\n",
    "**Example:**  \n",
    "Input: `heights = [4,2,7,6,9,14,12], bricks = 5, ladders = 1`  \n",
    "Output: `4`"
   ]
  },
  {
   "cell_type": "code",
   "execution_count": null,
   "metadata": {
    "vscode": {
     "languageId": "plaintext"
    }
   },
   "outputs": [],
   "source": []
  },
  {
   "cell_type": "markdown",
   "metadata": {},
   "source": [
    "Sliding Window Median\n",
    "**Problem:** Given an array `nums` and a window size `k`, return the median of every window of size `k`.\n",
    "**Example:**  \n",
    "Input: `nums = [1,3,-1,-3,5,3,6,7]`, `k = 3`  \n",
    "Output: `[1, -1, -1, 3, 5, 6]`\n"
   ]
  },
  {
   "cell_type": "code",
   "execution_count": null,
   "metadata": {
    "vscode": {
     "languageId": "plaintext"
    }
   },
   "outputs": [],
   "source": []
  },
  {
   "cell_type": "markdown",
   "metadata": {},
   "source": [
    "Min Cost to Hire K Workers\n",
    "**Problem:** Given `n` workers with their quality and wage expectation, find the minimum cost to hire exactly `k` workers while maintaining the wage-to-quality ratio.\n",
    "**Example:**  \n",
    "Input: `quality = [10,20,5], wage = [70,50,30], k = 2`  \n",
    "Output: `105.0`"
   ]
  },
  {
   "cell_type": "code",
   "execution_count": null,
   "metadata": {
    "vscode": {
     "languageId": "plaintext"
    }
   },
   "outputs": [],
   "source": []
  },
  {
   "cell_type": "markdown",
   "metadata": {},
   "source": [
    "Smallest Range Covering Elements from K Lists\n",
    "**Problem:** Given `k` sorted lists, find the smallest range that includes at least one element from each list.\n",
    "**Example:**  \n",
    "Input: `[[4,10,15,24,26], [0,9,12,20], [5,18,22,30]]`  \n",
    "Output: `[20,24]`"
   ]
  },
  {
   "cell_type": "code",
   "execution_count": null,
   "metadata": {
    "vscode": {
     "languageId": "plaintext"
    }
   },
   "outputs": [],
   "source": []
  },
  {
   "cell_type": "markdown",
   "metadata": {},
   "source": [
    "Least Number of Unique Integers after K Removals\n",
    "**Problem:** Given an array of integers and an integer `k`, remove `k` elements to minimize the number of unique integers remaining.\n",
    "**Example:**  \n",
    "Input: `arr = [4,3,1,1,3,3,2,4,4]`, `k = 3`  \n",
    "Output: `2`"
   ]
  },
  {
   "cell_type": "code",
   "execution_count": null,
   "metadata": {
    "vscode": {
     "languageId": "plaintext"
    }
   },
   "outputs": [],
   "source": []
  }
 ],
 "metadata": {
  "language_info": {
   "name": "python"
  }
 },
 "nbformat": 4,
 "nbformat_minor": 2
}
