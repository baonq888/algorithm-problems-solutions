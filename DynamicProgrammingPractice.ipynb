{
 "cells": [
  {
   "cell_type": "markdown",
   "metadata": {},
   "source": [
    "### Methods to solve DP\n",
    "1.\tWrite small test cases\n",
    "2.\tLook for a pattern\n",
    "3.  Come up with math formula\n",
    "4.\tImplement code"
   ]
  },
  {
   "cell_type": "markdown",
   "metadata": {},
   "source": [
    "**Fibonacci Sequence Problem:**   \n",
    "\n",
    "The Fibonacci sequence is defined as follows: \n",
    "- `F(0) = 0`, `F(1) = 1` \n",
    "- `F(n) = F(n-1) + F(n-2)`, for `n >= 2`.\n",
    "Given an integer `n`, compute `F(n)`.  \n",
    "\n",
    "**Example:** Input: `n = 5`, Output: `5`"
   ]
  },
  {
   "cell_type": "code",
   "execution_count": 12,
   "metadata": {},
   "outputs": [
    {
     "name": "stdout",
     "output_type": "stream",
     "text": [
      "5\n"
     ]
    }
   ],
   "source": [
    "def solve(n):\n",
    "    fib = [0,1]\n",
    "    i = 2\n",
    "    while i <= n:\n",
    "        fib.append(fib[i-1]+fib[i-2])\n",
    "        i += 1\n",
    "    return fib[-1]\n",
    "\n",
    "n = 5\n",
    "print(solve(5))\n",
    "    "
   ]
  },
  {
   "cell_type": "markdown",
   "metadata": {},
   "source": [
    "**Climbing Stairs Problem:**   \n",
    "\n",
    "You are climbing a staircase with `n` steps. Each time you can climb either 1 or 2 steps. Determine the number of distinct ways to reach the top.  \n",
    "\n",
    "**Example:** Input: `n = 3`, Output: `3` (Ways: `[1,1,1]`, `[1,2]`, `[2,1]`)"
   ]
  },
  {
   "cell_type": "code",
   "execution_count": null,
   "metadata": {},
   "outputs": [
    {
     "name": "stdout",
     "output_type": "stream",
     "text": [
      "3\n"
     ]
    }
   ],
   "source": [
    "def solve(n):\n",
    "    ways = [1,2]\n",
    "    i = 2\n",
    "    while i < n:\n",
    "        # because we can only climb at most 2 steps\n",
    "        # number of steps to reach stair N is the number of steps from the stair that is 2 step up to N\n",
    "        # and the number of step from the stair that is 1 step up to N\n",
    "        ways.append(ways[i-2]+ways[i-1]) \n",
    "        i += 1\n",
    "    return ways[-1]\n",
    "\n",
    "n = 3\n",
    "print(solve(n))"
   ]
  },
  {
   "cell_type": "markdown",
   "metadata": {},
   "source": [
    "**Coin Change Problem:**   \n",
    "\n",
    "Given an array `coins` representing coin denominations and an integer `amount`, determine the minimum number of coins needed to make up `amount`. If it is not possible, return `-1`.  \n",
    "\n",
    "**Example:** Input: `coins = [1,2,5], amount = 11`, Output: `3` (using `[5,5,1]`)"
   ]
  },
  {
   "cell_type": "code",
   "execution_count": null,
   "metadata": {},
   "outputs": [
    {
     "name": "stdout",
     "output_type": "stream",
     "text": [
      "3\n"
     ]
    }
   ],
   "source": [
    "'''\n",
    "since we use tabular, means decompose a problem to subproblem\n",
    "intution: coins: 1,2, amount 5\n",
    "5 = 1 + 1 + 1 + 1 + 1 = 1 + 1 + 1 + 2 = 1 + 2 + 2\n",
    "Another analogy, what about 5 = 2 + 3, since 3 is not from the coins, \n",
    "we break 3 down into valid coins {1, 2}\n",
    "5 = 2 + 3 = 2 + (2 + 1) = (2) + (2) + (1)\n",
    "how can we detmine how many ways to form 5 based on previous values\n",
    "what if we can come up with a formula\n",
    "\n",
    "in order to know the combination of coins that made up an amount, \n",
    "we have to go through each coin (we have to know what is the value of the coin first)\n",
    "\n",
    "Ex: coins {1,2}, target amount T = 10\n",
    "For coin 1, determine number of ways to form an amount from 0 to T with only coin 1\n",
    "For coin 2, determine number of ways to form an amount from 0 to T with coin 2 and coin 1\n",
    "\n",
    "Go through each coins, builds this path bottom-up:\n",
    "Ex: for coin = 2:\n",
    "\n",
    "1.\tamounts[0] = 0\n",
    "2.\tamounts[1] = 1 → use coin 1\n",
    "3.\tamounts[2] = 1 → use coin 2\n",
    "4.\tamounts[3] = 2 → use coin 1 + 2\n",
    "5.\tamounts[4] = 2 → 2+2 or 1+1+2\n",
    "6.\tamounts[5] = 3 → 2+2+1 (minimum)\n",
    "\n",
    "If amount is 10\n",
    "7.\tamounts[6] = 3 → use coin 2+2+2\n",
    "8.\tamounts[7] = 4 → use coin 2+2+2+1\n",
    "9.\tamounts[8] = 4 → use coin 2+2+2+2\n",
    "10.\tamounts[9] = 5 → use coin 2+2+2+2+1\n",
    "11.\tamounts[10] = 5 → use coin 2+2+2+2+2\n",
    "\n",
    "__________________\n",
    "\n",
    "We see that:\n",
    "- amounts[4] is 2 = amounts[3]\n",
    "- amounts[5] is 3 which is amounts[3] + 1 = amounts[4] + 1\n",
    "- amounts[7] is 4 which is amounts[5] + 1 = amounts[6] + 1\n",
    "- ...\n",
    "\n",
    "We see it further:\n",
    "- amounts[3] = amounts[3-2] + 1     ( = 2 )\n",
    "- amounts[4] = amounts[3]           ( = 2 )\n",
    "- amounts[5] = amounts[5-2] + 1     ( = 3 )\n",
    "- amounts[6] = amounts[5]           ( = 3 )\n",
    "- amounts[8] = amounts[7-2] + 1     ( = 4 )\n",
    "- amounts[7] = amounts[7]           ( = 4 )\n",
    "- amounts[9] = amounts[9-2] + 1     ( = 5 )\n",
    "\n",
    "\n",
    "(come up with the Math formula by spotting patterns in subproblems)\n",
    "==> amounts[i] = min(amounts[i], amounts[i-coin] + 1) \n",
    "'''\n",
    "\n",
    "\n",
    "def solve(coins, amount):\n",
    "    \n",
    "    amounts = [float('inf')] * (amount+1) # where i is an amount made by coins \n",
    "    amounts[0] = 0\n",
    "\n",
    "    for i in range(1, amount+1):\n",
    "        for coin in coins:\n",
    "            if i >= coin: \n",
    "                amounts[i] = min(amounts[i], amounts[i-coin] + 1) \n",
    "    \n",
    "    return amounts[amount] if amounts[amount] != float('inf') else -1\n",
    "\n",
    "coins = [1,2,5]\n",
    "amount = 11\n",
    "print(solve(coins,amount))"
   ]
  },
  {
   "cell_type": "markdown",
   "metadata": {},
   "source": [
    "**Knapsack Problem**\n",
    "\n",
    "Given `n` items with weights and values, and a knapsack of capacity `W`, find the maximum value that can be obtained by selecting items without exceeding capacity.  \n",
    "\n",
    "**Example:**   \n",
    "Input: `weights = [2,3,4], values = [3,4,5], W = 5`, Output: `7` (Choosing items 1 and 2)"
   ]
  },
  {
   "cell_type": "code",
   "execution_count": null,
   "metadata": {},
   "outputs": [
    {
     "name": "stdout",
     "output_type": "stream",
     "text": [
      "7\n"
     ]
    }
   ],
   "source": [
    "# for each weight from 0 to W, consider put in the bag (1) or not (0)\n",
    "def solve(weights,values,W):\n",
    "    n = len(weights)\n",
    "\n",
    "    dp = [[0 for _ in range(W + 1)] for _ in range(n + 1)]\n",
    "\n",
    "    for i in range(1, n + 1):\n",
    "        for w in range(1, W + 1):\n",
    "            if weights[i - 1] <= w:\n",
    "                dp[i][w] = max(dp[i - 1][w], dp[i - 1][w - weights[i - 1]] + values[i - 1])\n",
    "            else:\n",
    "                dp[i][w] = dp[i - 1][w]\n",
    "\n",
    "    return dp[n][W]\n",
    "\n",
    "weights = [2,3,4]\n",
    "values = [3,4,5]\n",
    "W = 5\n",
    "print(solve(weights,values,W))"
   ]
  },
  {
   "cell_type": "markdown",
   "metadata": {},
   "source": [
    "**Longest Common Subsequence Problem:**   \n",
    "\n",
    "Given two strings, find the length of the longest subsequence common to both.\n",
    "\n",
    "**Example:**  \n",
    "Input: `text1 = \"abcde\", text2 = \"ace\"`, Output: `3` (`ace` is the LCS)"
   ]
  },
  {
   "cell_type": "code",
   "execution_count": null,
   "metadata": {},
   "outputs": [],
   "source": [
    "def solve(text1, text2):\n",
    "    m, n = len(text1), len(text2)\n",
    "    dp = [[0] * (n + 1) for _ in range(m + 1)]\n",
    "\n",
    "    for i in range(m):\n",
    "        for j in range(n):\n",
    "            if text1[i] == text2[j]:\n",
    "                # update the current element's next diagonal element\n",
    "                dp[i + 1][j + 1] = 1 + dp[i][j]\n",
    "            else:\n",
    "                 # the current characters do not match, skip one character, no intersection allowed\n",
    "                dp[i + 1][j + 1] = max(dp[i][j + 1], dp[i + 1][j])\n",
    "\n",
    "    return dp[m][n]"
   ]
  },
  {
   "cell_type": "markdown",
   "metadata": {},
   "source": [
    "**Longest Increasing Subsequence Problem:**  \n",
    "\n",
    " Given an array, find the length of the longest strictly increasing subsequence.  \n",
    " \n",
    "**Example:** Input: `nums = [10,9,2,5,3,7,101,18]`, Output: `4` (`[2,3,7,101]`)\n"
   ]
  },
  {
   "cell_type": "code",
   "execution_count": null,
   "metadata": {},
   "outputs": [],
   "source": [
    "def solve(nums):\n",
    "    \n",
    "    dp = [1] * len(nums)\n",
    "\n",
    "    for i in range(1, len(nums)):\n",
    "        for j in range(i):\n",
    "            if nums[i] > nums[j]:\n",
    "                dp[i] = max(dp[i], dp[j] + 1)\n",
    "\n",
    "    return max(dp)"
   ]
  },
  {
   "cell_type": "markdown",
   "metadata": {},
   "source": [
    "Edit Distance\n",
    "**Problem:** Given two strings, compute the minimum number of insertions, deletions, or substitutions to convert one into the other.\n",
    "**Example:** Input: `word1 = \"horse\", word2 = \"ros\"`, Output: `3` (Remove `h`, replace `o` with `r`, remove `e`)"
   ]
  },
  {
   "cell_type": "code",
   "execution_count": null,
   "metadata": {},
   "outputs": [],
   "source": []
  },
  {
   "cell_type": "markdown",
   "metadata": {},
   "source": [
    "Maximum Subarray Sum\n",
    "**Problem:** Find the contiguous subarray with the maximum sum.\n",
    "**Example:** Input: `nums = [-2,1,-3,4,-1,2,1,-5,4]`, Output: `6` (Subarray `[4,-1,2,1]`)"
   ]
  },
  {
   "cell_type": "code",
   "execution_count": null,
   "metadata": {},
   "outputs": [],
   "source": []
  },
  {
   "cell_type": "markdown",
   "metadata": {},
   "source": [
    "Unique Paths\n",
    "**Problem:** A robot starts at `(0,0)` in an `m x n` grid and can move right or down. Find the number of unique paths to `(m-1, n-1)`.\n",
    "**Example:** Input: `m = 3, n = 2`, Output: `3`"
   ]
  },
  {
   "cell_type": "code",
   "execution_count": null,
   "metadata": {},
   "outputs": [],
   "source": []
  },
  {
   "cell_type": "markdown",
   "metadata": {},
   "source": [
    "Jump Game\n",
    "**Problem:** Given an array `nums`, where `nums[i]` represents the max jump length from index `i`, determine if you can reach the last index.\n",
    "**Example:** Input: `nums = [2,3,1,1,4]`, Output: `true`"
   ]
  },
  {
   "cell_type": "code",
   "execution_count": null,
   "metadata": {},
   "outputs": [],
   "source": []
  },
  {
   "cell_type": "markdown",
   "metadata": {},
   "source": [
    "House Robber\n",
    "**Problem:** Given an array representing money in houses, determine the maximum amount that can be robbed without robbing adjacent houses.\n",
    "**Example:** Input: `nums = [2,7,9,3,1]`, Output: `12`"
   ]
  },
  {
   "cell_type": "code",
   "execution_count": null,
   "metadata": {},
   "outputs": [],
   "source": []
  },
  {
   "cell_type": "markdown",
   "metadata": {},
   "source": [
    "Partition Equal Subset Sum\n",
    "**Problem:** Given an array, determine if it can be partitioned into two subsets with equal sum.\n",
    "**Example:** Input: `nums = [1,5,11,5]`, Output: `true`\n"
   ]
  },
  {
   "cell_type": "code",
   "execution_count": null,
   "metadata": {},
   "outputs": [],
   "source": []
  },
  {
   "cell_type": "markdown",
   "metadata": {},
   "source": [
    "Minimum Path Sum\n",
    "**Problem:** Find the minimum sum path from the top-left to the bottom-right of an `m x n` grid, moving only right or down.\n",
    "**Example:** Input: `grid = [[1,3,1],[1,5,1],[4,2,1]]`, Output: `7`\n"
   ]
  },
  {
   "cell_type": "code",
   "execution_count": null,
   "metadata": {},
   "outputs": [],
   "source": []
  },
  {
   "cell_type": "markdown",
   "metadata": {},
   "source": [
    "Interleaving String\n",
    "**Problem:** Given strings `s1`, `s2`, and `s3`, check if `s3` is formed by interleaving `s1` and `s2`.\n",
    "**Example:** Input: `s1 = \"aab\", s2 = \"axy\", s3 = \"aaxaby\"`, Output: `true`"
   ]
  },
  {
   "cell_type": "code",
   "execution_count": null,
   "metadata": {},
   "outputs": [],
   "source": []
  },
  {
   "cell_type": "markdown",
   "metadata": {},
   "source": [
    " Decode Ways\n",
    "**Problem:** Given a string of digits, determine the number of ways it can be decoded (1 → A, 2 → B, ..., 26 → Z).\n",
    "**Example:** Input: `s = \"226\"`, Output: `3` (`\"BBF\"`, `\"BZ\"`, `\"VF\"`)\n"
   ]
  },
  {
   "cell_type": "code",
   "execution_count": null,
   "metadata": {},
   "outputs": [],
   "source": []
  },
  {
   "cell_type": "markdown",
   "metadata": {},
   "source": [
    "Word Break\n",
    "**Problem:** Given a string and a dictionary, determine if the string can be segmented into words from the dictionary.\n",
    "**Example:** Input: `s = \"leetcode\", wordDict = [\"leet\", \"code\"]`, Output: `true`\n"
   ]
  },
  {
   "cell_type": "code",
   "execution_count": null,
   "metadata": {},
   "outputs": [],
   "source": []
  },
  {
   "cell_type": "markdown",
   "metadata": {},
   "source": [
    "Maximum Product Subarray\n",
    "**Problem:** Find the maximum product of a contiguous subarray.\n",
    "**Example:** Input: `nums = [2,3,-2,4]`, Output: `6`"
   ]
  },
  {
   "cell_type": "code",
   "execution_count": null,
   "metadata": {},
   "outputs": [],
   "source": []
  },
  {
   "cell_type": "markdown",
   "metadata": {},
   "source": [
    "Palindromic Substrings\n",
    "**Problem:** Count the number of palindromic substrings in a string.\n",
    "**Example:** Input: `s = \"aaa\"`, Output: `6`"
   ]
  },
  {
   "cell_type": "code",
   "execution_count": null,
   "metadata": {},
   "outputs": [],
   "source": []
  },
  {
   "cell_type": "markdown",
   "metadata": {},
   "source": [
    " Burst Balloons\n",
    "**Problem:** Given an array of balloons with values, find the maximum coins you can collect by optimally bursting them.\n",
    "**Example:** Input: `nums = [3,1,5,8]`, Output: `167`\n"
   ]
  },
  {
   "cell_type": "code",
   "execution_count": null,
   "metadata": {},
   "outputs": [],
   "source": []
  },
  {
   "cell_type": "markdown",
   "metadata": {},
   "source": [
    "Cherry Pickup\n",
    "**Problem:** Given an `n x n` grid with obstacles, determine the maximum cherries two robots can collect from `(0,0)` to `(n-1,n-1)` and back.\n",
    "**Example:** Input: `grid = [[0,1,-1],[1,0,-1],[1,1,1]]`, Output: `5`"
   ]
  },
  {
   "cell_type": "code",
   "execution_count": null,
   "metadata": {},
   "outputs": [],
   "source": []
  }
 ],
 "metadata": {
  "kernelspec": {
   "display_name": "Python 3",
   "language": "python",
   "name": "python3"
  },
  "language_info": {
   "codemirror_mode": {
    "name": "ipython",
    "version": 3
   },
   "file_extension": ".py",
   "mimetype": "text/x-python",
   "name": "python",
   "nbconvert_exporter": "python",
   "pygments_lexer": "ipython3",
   "version": "3.9.6"
  }
 },
 "nbformat": 4,
 "nbformat_minor": 2
}
