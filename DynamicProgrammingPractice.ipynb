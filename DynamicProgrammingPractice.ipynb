{
 "cells": [
  {
   "cell_type": "markdown",
   "metadata": {},
   "source": [
    "**Fibonacci Sequence Problem:**   \n",
    "\n",
    "The Fibonacci sequence is defined as follows: \n",
    "- `F(0) = 0`, `F(1) = 1` \n",
    "- `F(n) = F(n-1) + F(n-2)`, for `n >= 2`.\n",
    "Given an integer `n`, compute `F(n)`.  \n",
    "\n",
    "**Example:** Input: `n = 5`, Output: `5`"
   ]
  },
  {
   "cell_type": "code",
   "execution_count": 12,
   "metadata": {},
   "outputs": [
    {
     "name": "stdout",
     "output_type": "stream",
     "text": [
      "5\n"
     ]
    }
   ],
   "source": [
    "def solve(n):\n",
    "    fib = [0,1]\n",
    "    i = 2\n",
    "    while i <= n:\n",
    "        fib.append(fib[i-1]+fib[i-2])\n",
    "        i += 1\n",
    "    return fib[-1]\n",
    "\n",
    "n = 5\n",
    "print(solve(5))\n",
    "    "
   ]
  },
  {
   "cell_type": "markdown",
   "metadata": {},
   "source": [
    "**Climbing Stairs Problem:**   \n",
    "\n",
    "You are climbing a staircase with `n` steps. Each time you can climb either 1 or 2 steps. Determine the number of distinct ways to reach the top.  \n",
    "\n",
    "**Example:** Input: `n = 3`, Output: `3` (Ways: `[1,1,1]`, `[1,2]`, `[2,1]`)"
   ]
  },
  {
   "cell_type": "code",
   "execution_count": null,
   "metadata": {},
   "outputs": [
    {
     "name": "stdout",
     "output_type": "stream",
     "text": [
      "3\n"
     ]
    }
   ],
   "source": [
    "def solve(n):\n",
    "    ways = [1,2]\n",
    "    i = 2\n",
    "    while i < n:\n",
    "        # because we can only climb at most 2 steps\n",
    "        # number of steps to reach stair N is the number of steps from the stair that is 2 step up to N\n",
    "        # and the number of step from the stair that is 1 step up to N\n",
    "        ways.append(ways[i-2]+ways[i-1]) \n",
    "        i += 1\n",
    "    return ways[-1]\n",
    "\n",
    "n = 3\n",
    "print(solve(n))"
   ]
  },
  {
   "cell_type": "markdown",
   "metadata": {},
   "source": [
    "**Coin Change Problem:**   \n",
    "\n",
    "Given an array `coins` representing coin denominations and an integer `amount`, determine the minimum number of coins needed to make up `amount`. If it is not possible, return `-1`.  \n",
    "\n",
    "**Example:** Input: `coins = [1,2,5], amount = 11`, Output: `3` (using `[5,5,1]`)"
   ]
  },
  {
   "cell_type": "code",
   "execution_count": null,
   "metadata": {},
   "outputs": [
    {
     "name": "stdout",
     "output_type": "stream",
     "text": [
      "3\n"
     ]
    }
   ],
   "source": [
    "# if coins are [1,2,5], amount 1 is made of coin 1, same for 2, \n",
    "# 5 is made of multiple coins, 2 + 3, 4 + 1,.....\n",
    "# within 2 + 3, 3 is made of 2 + 1, ,.....\n",
    "# initiate a tabular array, index is an amount\n",
    "# for each amount from 1 to target\n",
    "# set the total number of coins needed to make up an amount (index of tabular array)\n",
    "# because you can make up an amount only from specific coins\n",
    "# in order to determin specific coins to sum up target\n",
    "# minus target with a coin, update the target with that result, then repeat until reach 0\n",
    "\n",
    "\n",
    "def solve(coins, amount):\n",
    "    \n",
    "    amounts = [float('inf')] * (amount+1) # where i is an amount made by coins \n",
    "    amounts[0] = 0\n",
    "\n",
    "    for i in range(1, amount+1):\n",
    "        for coin in coins:\n",
    "            if i >= coin: \n",
    "                amounts[i] = min(amounts[i], amounts[i-coin] + 1) \n",
    "    \n",
    "    return amounts[amount] if amounts[amount] != float('inf') else -1\n",
    "\n",
    "coins = [1,2,5]\n",
    "amount = 11\n",
    "print(solve(coins,amount))"
   ]
  },
  {
   "cell_type": "markdown",
   "metadata": {},
   "source": [
    "**Knapsack Problem**\n",
    "\n",
    "Given `n` items with weights and values, and a knapsack of capacity `W`, find the maximum value that can be obtained by selecting items without exceeding capacity.  \n",
    "\n",
    "**Example:**   \n",
    "Input: `weights = [2,3,4], values = [3,4,5], W = 5`, Output: `7` (Choosing items 1 and 2)"
   ]
  },
  {
   "cell_type": "code",
   "execution_count": null,
   "metadata": {},
   "outputs": [
    {
     "name": "stdout",
     "output_type": "stream",
     "text": [
      "7\n"
     ]
    }
   ],
   "source": [
    "# for each weight from 0 to W, consider put in the bag (1) or not (0)\n",
    "def solve(weights,values,W):\n",
    "    n = len(weights)\n",
    "\n",
    "    dp = [[0 for _ in range(W + 1)] for _ in range(n + 1)]\n",
    "\n",
    "    for i in range(1, n + 1):\n",
    "        for w in range(1, W + 1):\n",
    "            if weights[i - 1] <= w:\n",
    "                dp[i][w] = max(dp[i - 1][w], dp[i - 1][w - weights[i - 1]] + values[i - 1])\n",
    "            else:\n",
    "                dp[i][w] = dp[i - 1][w]\n",
    "\n",
    "    return dp[n][W]\n",
    "\n",
    "weights = [2,3,4]\n",
    "values = [3,4,5]\n",
    "W = 5\n",
    "print(solve(weights,values,W))"
   ]
  },
  {
   "cell_type": "markdown",
   "metadata": {},
   "source": [
    "Longest Common Subsequence\n",
    "**Problem:** Given two strings, find the length of the longest subsequence common to both.\n",
    "**Example:** Input: `text1 = \"abcde\", text2 = \"ace\"`, Output: `3` (`ace` is the LCS)"
   ]
  },
  {
   "cell_type": "code",
   "execution_count": null,
   "metadata": {},
   "outputs": [],
   "source": []
  },
  {
   "cell_type": "markdown",
   "metadata": {},
   "source": [
    "Longest Increasing Subsequence\n",
    "**Problem:** Given an array, find the length of the longest strictly increasing subsequence.\n",
    "**Example:** Input: `nums = [10,9,2,5,3,7,101,18]`, Output: `4` (`[2,3,7,101]`)\n"
   ]
  },
  {
   "cell_type": "code",
   "execution_count": null,
   "metadata": {},
   "outputs": [],
   "source": []
  },
  {
   "cell_type": "markdown",
   "metadata": {},
   "source": [
    "Edit Distance\n",
    "**Problem:** Given two strings, compute the minimum number of insertions, deletions, or substitutions to convert one into the other.\n",
    "**Example:** Input: `word1 = \"horse\", word2 = \"ros\"`, Output: `3` (Remove `h`, replace `o` with `r`, remove `e`)"
   ]
  },
  {
   "cell_type": "code",
   "execution_count": null,
   "metadata": {},
   "outputs": [],
   "source": []
  },
  {
   "cell_type": "markdown",
   "metadata": {},
   "source": [
    "Maximum Subarray Sum\n",
    "**Problem:** Find the contiguous subarray with the maximum sum.\n",
    "**Example:** Input: `nums = [-2,1,-3,4,-1,2,1,-5,4]`, Output: `6` (Subarray `[4,-1,2,1]`)"
   ]
  },
  {
   "cell_type": "code",
   "execution_count": null,
   "metadata": {},
   "outputs": [],
   "source": []
  },
  {
   "cell_type": "markdown",
   "metadata": {},
   "source": [
    "Unique Paths\n",
    "**Problem:** A robot starts at `(0,0)` in an `m x n` grid and can move right or down. Find the number of unique paths to `(m-1, n-1)`.\n",
    "**Example:** Input: `m = 3, n = 2`, Output: `3`"
   ]
  },
  {
   "cell_type": "code",
   "execution_count": null,
   "metadata": {},
   "outputs": [],
   "source": []
  },
  {
   "cell_type": "markdown",
   "metadata": {},
   "source": [
    "Jump Game\n",
    "**Problem:** Given an array `nums`, where `nums[i]` represents the max jump length from index `i`, determine if you can reach the last index.\n",
    "**Example:** Input: `nums = [2,3,1,1,4]`, Output: `true`"
   ]
  },
  {
   "cell_type": "code",
   "execution_count": null,
   "metadata": {},
   "outputs": [],
   "source": []
  },
  {
   "cell_type": "markdown",
   "metadata": {},
   "source": [
    "House Robber\n",
    "**Problem:** Given an array representing money in houses, determine the maximum amount that can be robbed without robbing adjacent houses.\n",
    "**Example:** Input: `nums = [2,7,9,3,1]`, Output: `12`"
   ]
  },
  {
   "cell_type": "code",
   "execution_count": null,
   "metadata": {},
   "outputs": [],
   "source": []
  },
  {
   "cell_type": "markdown",
   "metadata": {},
   "source": [
    "Partition Equal Subset Sum\n",
    "**Problem:** Given an array, determine if it can be partitioned into two subsets with equal sum.\n",
    "**Example:** Input: `nums = [1,5,11,5]`, Output: `true`\n"
   ]
  },
  {
   "cell_type": "code",
   "execution_count": null,
   "metadata": {},
   "outputs": [],
   "source": []
  },
  {
   "cell_type": "markdown",
   "metadata": {},
   "source": [
    "Minimum Path Sum\n",
    "**Problem:** Find the minimum sum path from the top-left to the bottom-right of an `m x n` grid, moving only right or down.\n",
    "**Example:** Input: `grid = [[1,3,1],[1,5,1],[4,2,1]]`, Output: `7`\n"
   ]
  },
  {
   "cell_type": "code",
   "execution_count": null,
   "metadata": {},
   "outputs": [],
   "source": []
  },
  {
   "cell_type": "markdown",
   "metadata": {},
   "source": [
    "Interleaving String\n",
    "**Problem:** Given strings `s1`, `s2`, and `s3`, check if `s3` is formed by interleaving `s1` and `s2`.\n",
    "**Example:** Input: `s1 = \"aab\", s2 = \"axy\", s3 = \"aaxaby\"`, Output: `true`"
   ]
  },
  {
   "cell_type": "code",
   "execution_count": null,
   "metadata": {},
   "outputs": [],
   "source": []
  },
  {
   "cell_type": "markdown",
   "metadata": {},
   "source": [
    " Decode Ways\n",
    "**Problem:** Given a string of digits, determine the number of ways it can be decoded (1 → A, 2 → B, ..., 26 → Z).\n",
    "**Example:** Input: `s = \"226\"`, Output: `3` (`\"BBF\"`, `\"BZ\"`, `\"VF\"`)\n"
   ]
  },
  {
   "cell_type": "code",
   "execution_count": null,
   "metadata": {},
   "outputs": [],
   "source": []
  },
  {
   "cell_type": "markdown",
   "metadata": {},
   "source": [
    "Word Break\n",
    "**Problem:** Given a string and a dictionary, determine if the string can be segmented into words from the dictionary.\n",
    "**Example:** Input: `s = \"leetcode\", wordDict = [\"leet\", \"code\"]`, Output: `true`\n"
   ]
  },
  {
   "cell_type": "code",
   "execution_count": null,
   "metadata": {},
   "outputs": [],
   "source": []
  },
  {
   "cell_type": "markdown",
   "metadata": {},
   "source": [
    "Maximum Product Subarray\n",
    "**Problem:** Find the maximum product of a contiguous subarray.\n",
    "**Example:** Input: `nums = [2,3,-2,4]`, Output: `6`"
   ]
  },
  {
   "cell_type": "code",
   "execution_count": null,
   "metadata": {},
   "outputs": [],
   "source": []
  },
  {
   "cell_type": "markdown",
   "metadata": {},
   "source": [
    "Palindromic Substrings\n",
    "**Problem:** Count the number of palindromic substrings in a string.\n",
    "**Example:** Input: `s = \"aaa\"`, Output: `6`"
   ]
  },
  {
   "cell_type": "code",
   "execution_count": null,
   "metadata": {},
   "outputs": [],
   "source": []
  },
  {
   "cell_type": "markdown",
   "metadata": {},
   "source": [
    " Burst Balloons\n",
    "**Problem:** Given an array of balloons with values, find the maximum coins you can collect by optimally bursting them.\n",
    "**Example:** Input: `nums = [3,1,5,8]`, Output: `167`\n"
   ]
  },
  {
   "cell_type": "code",
   "execution_count": null,
   "metadata": {},
   "outputs": [],
   "source": []
  },
  {
   "cell_type": "markdown",
   "metadata": {},
   "source": [
    "Cherry Pickup\n",
    "**Problem:** Given an `n x n` grid with obstacles, determine the maximum cherries two robots can collect from `(0,0)` to `(n-1,n-1)` and back.\n",
    "**Example:** Input: `grid = [[0,1,-1],[1,0,-1],[1,1,1]]`, Output: `5`"
   ]
  },
  {
   "cell_type": "code",
   "execution_count": null,
   "metadata": {},
   "outputs": [],
   "source": []
  }
 ],
 "metadata": {
  "kernelspec": {
   "display_name": "Python 3",
   "language": "python",
   "name": "python3"
  },
  "language_info": {
   "codemirror_mode": {
    "name": "ipython",
    "version": 3
   },
   "file_extension": ".py",
   "mimetype": "text/x-python",
   "name": "python",
   "nbconvert_exporter": "python",
   "pygments_lexer": "ipython3",
   "version": "3.9.6"
  }
 },
 "nbformat": 4,
 "nbformat_minor": 2
}
